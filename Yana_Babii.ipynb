{
 "cells": [
  {
   "cell_type": "code",
   "execution_count": null,
   "metadata": {},
   "outputs": [],
   "source": [
    "import matplotlib.pyplot as plt\n",
    "import csv\n",
    "import matplotlib.patches as mpatches\n",
    "  \n",
    "x = []\n",
    "y = []\n",
    "X = []\n",
    "Y = []\n",
    "  \n",
    "with open('Fig_1A.csv','r') as csvfile:\n",
    "    plots = csv.reader(csvfile, delimiter = ';')\n",
    "    next(plots)\n",
    "      \n",
    "    for row in plots:\n",
    "        x.append(row[0].replace(\",\", \".\"))\n",
    "        y.append(row[1])\n",
    "\n",
    "for i in range(len(x) - 3):\n",
    "    X.append(float(x[i]))\n",
    "    Y.append(int(y[i]))\n",
    "\n",
    "plt.rc('text', usetex = True)\n",
    "plt.rc('font', family = 'serif')\n",
    "\n",
    "fig, ax = plt.subplots()\n",
    "plt.plot(X, Y, color = 'gray')\n",
    "plt.xlabel('{\\\\bf Time (min)}', fontsize = 15)\n",
    "plt.xlim([2.33, 4.16])\n",
    "plt.ylim([0, 1.1e+9])\n",
    "plt.ylabel('{\\\\bf Intensity (cps)}', fontsize = 15)\n",
    "\n",
    "plt.text(2.35, 1.4e+8, \"\\\\underline{\\\\bf PtdIns}\", fontsize = 15)\n",
    "plt.text(2.64, 4.5e+8, \"\\\\underline{\\\\bf PtdEtn}\", fontsize = 15)\n",
    "plt.text(3.27, 4.32e+8, \"{\\\\bf P}\\\\underline{\\\\bf Etn-Ce}{\\\\bf r}\", fontsize = 15)\n",
    "plt.text(3.63, 2.9e+8, \"\\\\underline{\\\\bf X1}\", fontsize = 15, color = \"blue\")\n",
    "plt.text(3.54, 1e+8, \"{\\\\bf $|$PtdSer}\", rotation = 90, fontsize = 15)\n",
    "plt.text(3.81, 1.05e+9, \"{\\\\bf P}\\\\underline{\\\\bf tdCh}{\\\\bf o}\", fontsize = 15)\n",
    "plt.text(4.04, 0.8e+8, \"\\\\underline{\\\\bf SM}\", fontsize = 15)\n",
    "plt.text(2.4, 0.9e+9, \"{\\\\bf HPLC}\", fontsize = 20)\n",
    "\n",
    "fancybox = mpatches.FancyBboxPatch(\n",
    "    (3.51, 0), 0.25, 0.4e+9,\n",
    "    boxstyle = mpatches.BoxStyle.Round(pad = 0.03), color = \"blue\", alpha = 0.06 )\n",
    "ax.add_patch(fancybox)\n",
    "plt.tight_layout()\n",
    "# plt.savefig(\"result.pdf\")\n",
    "plt.show()"
   ]
  },
  {
   "cell_type": "code",
   "execution_count": null,
   "metadata": {},
   "outputs": [],
   "source": []
  }
 ],
 "metadata": {
  "kernelspec": {
   "display_name": "Python 3.7.6 64-bit ('base')",
   "language": "python",
   "name": "python37664bitbaseec1ebb7e5a4245d3a76665b10db01c18"
  },
  "language_info": {
   "codemirror_mode": {
    "name": "ipython",
    "version": 3
   },
   "file_extension": ".py",
   "mimetype": "text/x-python",
   "name": "python",
   "nbconvert_exporter": "python",
   "pygments_lexer": "ipython3",
   "version": "3.7.6"
  }
 },
 "nbformat": 4,
 "nbformat_minor": 4
}
